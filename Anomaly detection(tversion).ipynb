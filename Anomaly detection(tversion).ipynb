{
  "nbformat": 4,
  "nbformat_minor": 0,
  "metadata": {
    "colab": {
      "provenance": []
    },
    "kernelspec": {
      "name": "python3",
      "display_name": "Python 3"
    },
    "language_info": {
      "name": "python"
    }
  },
  "cells": [
    {
      "cell_type": "code",
      "execution_count": 23,
      "metadata": {
        "colab": {
          "base_uri": "https://localhost:8080/"
        },
        "id": "3JSkNtmH0E4i",
        "outputId": "5002aefe-dc0f-459c-b1db-ec63602593e4"
      },
      "outputs": [
        {
          "output_type": "stream",
          "name": "stdout",
          "text": [
            "Requirement already satisfied: PyWavelets in /usr/local/lib/python3.10/dist-packages (1.7.0)\n",
            "Requirement already satisfied: numpy<3,>=1.23 in /usr/local/lib/python3.10/dist-packages (from PyWavelets) (1.26.4)\n"
          ]
        }
      ],
      "source": [
        "!pip install PyWavelets\n"
      ]
    },
    {
      "cell_type": "code",
      "source": [
        "pip install requests pandas matplotlib pywt tensorflow"
      ],
      "metadata": {
        "colab": {
          "base_uri": "https://localhost:8080/"
        },
        "id": "yv3stxsC_YTg",
        "outputId": "13c8fcb7-f74e-419a-f41f-79edc5aed53a"
      },
      "execution_count": 24,
      "outputs": [
        {
          "output_type": "stream",
          "name": "stdout",
          "text": [
            "Requirement already satisfied: requests in /usr/local/lib/python3.10/dist-packages (2.32.3)\n",
            "Requirement already satisfied: pandas in /usr/local/lib/python3.10/dist-packages (2.2.2)\n",
            "Requirement already satisfied: matplotlib in /usr/local/lib/python3.10/dist-packages (3.7.1)\n",
            "\u001b[31mERROR: Could not find a version that satisfies the requirement pywt (from versions: none)\u001b[0m\u001b[31m\n",
            "\u001b[0m\u001b[31mERROR: No matching distribution found for pywt\u001b[0m\u001b[31m\n",
            "\u001b[0m"
          ]
        }
      ]
    },
    {
      "cell_type": "code",
      "source": [
        "import numpy as np\n",
        "import pandas as pd\n",
        "import tensorflow as tf\n",
        "from tensorflow.keras import layers, models\n",
        "from sklearn.model_selection import train_test_split\n",
        "from pywt import wavedec\n",
        "import matplotlib.pyplot as plt\n",
        "import requests\n",
        "import zipfile\n",
        "import os\n",
        "\n"
      ],
      "metadata": {
        "id": "UTEFnHXKHcaS"
      },
      "execution_count": 25,
      "outputs": []
    },
    {
      "cell_type": "code",
      "source": [
        "\n",
        "def load_data():\n",
        "    url = \"https://data.nasa.gov/download/ff5v-kuh6/application%2Fzip\"\n",
        "    response = requests.get(url)\n",
        "\n",
        "    if response.status_code != 200:\n",
        "        raise Exception(f\"خطا در دانلود فایل: {response.status_code}\")\n",
        "\n",
        "\n",
        "    zip_file_path = './CMAPSSData.zip'\n",
        "    with open(zip_file_path, 'wb') as f:\n",
        "        f.write(response.content)\n",
        "\n",
        "\n",
        "    with zipfile.ZipFile(zip_file_path, 'r') as zip_ref:\n",
        "        zip_ref.extractall('./CMAPSSData')\n",
        "\n",
        "\n",
        "    data_path = './CMAPSSData/train_FD001.txt'\n",
        "    columns = [\"unit_number\", \"time_in_cycles\", \"setting_1\", \"setting_2\", \"setting_3\",\n",
        "               \"sensor_1\", \"sensor_2\", \"sensor_3\", \"sensor_4\", \"sensor_5\", \"sensor_6\",\n",
        "               \"sensor_7\", \"sensor_8\", \"sensor_9\", \"sensor_10\", \"sensor_11\", \"sensor_12\",\n",
        "               \"sensor_13\", \"sensor_14\", \"sensor_15\", \"sensor_16\", \"sensor_17\", \"sensor_18\",\n",
        "               \"sensor_19\", \"sensor_20\", \"sensor_21\"]\n",
        "\n",
        "    data = pd.read_csv(data_path, delim_whitespace=True, header=None, names=columns)\n",
        "\n",
        "    return data"
      ],
      "metadata": {
        "id": "jnw6-B__Hjm3"
      },
      "execution_count": 26,
      "outputs": []
    },
    {
      "cell_type": "code",
      "source": [
        "# پیش‌پردازش داده‌ها: محاسبه Remaining Useful Life (RUL)\n",
        "def preprocess_data(data):\n",
        "    # Remaining Useful Life (RUL) را محاسبه کنید\n",
        "    rul = pd.DataFrame(data.groupby('unit_number')['time_in_cycles'].max()).reset_index()\n",
        "    rul.columns = ['unit_number', 'max_cycles']\n",
        "    data = data.merge(rul, on=['unit_number'], how='left')\n",
        "    data['RUL'] = data['max_cycles'] - data['time_in_cycles']\n",
        "    data = data.drop('max_cycles', axis=1)\n",
        "\n",
        "    # انتخاب ویژگی‌ها و متغیر هدف\n",
        "    features = data.iloc[:, 2:26].values  # ستون‌های سنسور\n",
        "    target = data['RUL'].values  # ستون RUL به عنوان هدف\n",
        "\n",
        "    return features, target"
      ],
      "metadata": {
        "id": "U-Cy80sJPPud"
      },
      "execution_count": 27,
      "outputs": []
    },
    {
      "cell_type": "code",
      "source": [
        "# ایجاد جفت‌های متضاد (ترتیب‌های مثبت و منفی)\n",
        "def create_contrastive_pairs(data, window_size=12):\n",
        "    pos_pairs = []\n",
        "    neg_pairs = []\n",
        "\n",
        "    for i in range(len(data) - window_size):\n",
        "        pos_sample = data[i:i + window_size]\n",
        "        neg_sample = pos_sample[::-1]  # معکوس کردن ترتیب برای نمونه منفی\n",
        "\n",
        "        pos_pairs.append(pos_sample)\n",
        "        neg_pairs.append(neg_sample)\n",
        "\n",
        "    pos_pairs = np.array(pos_pairs)\n",
        "    neg_pairs = np.array(neg_pairs)\n",
        "\n",
        "    return pos_pairs, neg_pairs"
      ],
      "metadata": {
        "id": "KPCrizLCbEOY"
      },
      "execution_count": 28,
      "outputs": []
    },
    {
      "cell_type": "code",
      "source": [
        "\n",
        "def siamese_cnn(input_shape):\n",
        "    input_layer = layers.Input(shape=input_shape)\n",
        "\n",
        "\n",
        "    x = layers.Conv1D(64, kernel_size=3, activation='relu')(input_layer)\n",
        "    x = layers.MaxPooling1D(pool_size=2)(x)\n",
        "    x = layers.Conv1D(128, kernel_size=3, activation='relu')(x)\n",
        "    x = layers.MaxPooling1D(pool_size=2)(x)\n",
        "    x = layers.Flatten()(x)\n",
        "    x = layers.Dense(256, activation='relu')(x)\n",
        "\n",
        "    return models.Model(input_layer, x)\n",
        "\n",
        "# مدل Siamese\n",
        "def siamese_model(input_shape):\n",
        "    # ورودی‌های مثبت و منفی\n",
        "    input_a = layers.Input(shape=input_shape)\n",
        "    input_b = layers.Input(shape=input_shape)\n",
        "\n",
        "    # استخراج ویژگی برای هر ورودی\n",
        "    base_cnn = siamese_cnn(input_shape)\n",
        "    features_a = base_cnn(input_a)\n",
        "    features_b = base_cnn(input_b)\n",
        "\n",
        "    # محاسبه فاصله بین ویژگی‌ها (استفاده از فاصله اقلیدسی)\n",
        "    distance = layers.Lambda(lambda tensors: tf.sqrt(tf.reduce_sum(tf.square(tensors[0] - tensors[1]), axis=-1)))(\n",
        "        [features_a, features_b])\n",
        "\n",
        "    return models.Model(inputs=[input_a, input_b], outputs=distance)\n"
      ],
      "metadata": {
        "id": "Mj_9nVavo5qJ"
      },
      "execution_count": 29,
      "outputs": []
    },
    {
      "cell_type": "code",
      "source": [
        "\n",
        "def contrastive_loss(y_true, y_pred, margin=1.0):\n",
        "    square_pred = tf.square(y_pred)\n",
        "    margin_square = tf.square(tf.maximum(margin - y_pred, 0))\n",
        "\n",
        "    return tf.reduce_mean(y_true * square_pred + (1 - y_true) * margin_square)\n",
        "\n",
        "# معماری CNN-LSTM برای پیش‌بینی RUL\n",
        "def create_cnn_lstm_model(input_shape):\n",
        "    model = models.Sequential()\n",
        "\n",
        "    # لایه‌های CNN\n",
        "    model.add(layers.Conv1D(64, kernel_size=3, activation='relu', input_shape=input_shape))\n",
        "    model.add(layers.MaxPooling1D(pool_size=2))\n",
        "    model.add(layers.Conv1D(128, kernel_size=3, activation='relu'))\n",
        "    model.add(layers.MaxPooling1D(pool_size=2))\n",
        "\n",
        "    # لایه‌های LSTM\n",
        "    model.add(layers.LSTM(128, return_sequences=True))\n",
        "    model.add(layers.LSTM(64))\n",
        "\n",
        "\n",
        "    model.add(layers.Dense(1, activation='linear'))\n",
        "\n",
        "    model.compile(optimizer='adam', loss='mse')\n",
        "\n",
        "    return model"
      ],
      "metadata": {
        "id": "S4GFnHnHrgxz"
      },
      "execution_count": 30,
      "outputs": []
    },
    {
      "cell_type": "code",
      "source": [
        "def create_sliding_windows(data, window_size=12):\n",
        "    num_samples = data.shape[0] - window_size + 1\n",
        "    windows = []\n",
        "\n",
        "    for i in range(num_samples):\n",
        "        windows.append(data[i:i + window_size])\n",
        "\n",
        "    return np.array(windows)\n",
        "\n",
        "def run_ssl_rul_prediction():\n",
        "\n",
        "    data = load_data()\n",
        "    processed_data, target = preprocess_data(data)\n",
        "\n",
        "    #  ایجاد جفت‌های متضاد\n",
        "    pos_pairs, neg_pairs = create_contrastive_pairs(processed_data)\n",
        "\n",
        "\n",
        "    if pos_pairs.shape[0] == 0 or neg_pairs.shape[0] == 0:\n",
        "        raise ValueError(\"داده‌های کافی برای ایجاد جفت‌های متضاد وجود ندارد.\")\n",
        "\n",
        "    #   تعریف مدل Siamese\n",
        "    input_shape = (pos_pairs.shape[1], processed_data.shape[1])\n",
        "    siamese_net = siamese_model(input_shape)\n",
        "\n",
        "    # بازشکل‌دهی جفت‌ها برای ورودی مدل\n",
        "    pos_pairs = pos_pairs.reshape(-1, pos_pairs.shape[1], processed_data.shape[1])\n",
        "    neg_pairs = neg_pairs.reshape(-1, neg_pairs.shape[1], processed_data.shape[1])\n",
        "\n",
        "    #   یادگیری متضاد (به حداقل رساندن خطای متضاد)\n",
        "    labels = np.concatenate([np.ones(pos_pairs.shape[0]), np.zeros(neg_pairs.shape[0])])\n",
        "    pairs = np.concatenate([pos_pairs, neg_pairs])\n",
        "\n",
        "    siamese_net.compile(optimizer='adam', loss=contrastive_loss)\n",
        "    siamese_net.fit([pairs, pairs], labels, epochs=10, batch_size=32)\n",
        "\n",
        "    #   انجماد استخراج‌کننده ویژگی‌ها و آموزش CNN-LSTM برای پیش‌بینی RUL\n",
        "    for layer in siamese_net.layers:\n",
        "        layer.trainable = False  # ثابت کردن لایه‌های استخراج‌کننده ویژگی‌ها\n",
        "\n",
        "    cnn_lstm_model = create_cnn_lstm_model((12, processed_data.shape[1]))\n",
        "\n",
        "    # تغییر شکل داده‌ها برای ورودی به مدل CNN-LSTM با استفاده از sliding window\n",
        "    processed_data_reshaped = create_sliding_windows(processed_data, window_size=12)\n",
        "\n",
        "\n",
        "    X_train, X_test, y_train, y_test = train_test_split(processed_data_reshaped, target[11:], test_size=0.2)\n",
        "    cnn_lstm_model.fit(X_train, y_train, epochs=20, batch_size=32, validation_data=(X_test, y_test))\n",
        "\n",
        "\n",
        "    predictions = cnn_lstm_model.predict(X_test)\n",
        "\n",
        "\n",
        "    plt.plot(y_test, label='RUL واقعی')\n",
        "    plt.plot(predictions, label='RUL پیش‌بینی شده')\n",
        "    plt.legend()\n",
        "    plt.show()\n",
        "\n",
        "# اجرای فرآیند پیش‌بینی RUL مبتنی بر SSL\n",
        "run_ssl_rul_prediction()\n"
      ],
      "metadata": {
        "colab": {
          "base_uri": "https://localhost:8080/",
          "height": 1000
        },
        "id": "D3GLFxKGAIv6",
        "outputId": "cf1f5daa-c709-430a-de5b-cccb0f78bd9b"
      },
      "execution_count": 31,
      "outputs": [
        {
          "output_type": "stream",
          "name": "stderr",
          "text": [
            "<ipython-input-26-79267500d9c1>:25: FutureWarning: The 'delim_whitespace' keyword in pd.read_csv is deprecated and will be removed in a future version. Use ``sep='\\s+'`` instead\n",
            "  data = pd.read_csv(data_path, delim_whitespace=True, header=None, names=columns)\n"
          ]
        },
        {
          "output_type": "stream",
          "name": "stdout",
          "text": [
            "Epoch 1/10\n",
            "\u001b[1m1289/1289\u001b[0m \u001b[32m━━━━━━━━━━━━━━━━━━━━\u001b[0m\u001b[37m\u001b[0m \u001b[1m7s\u001b[0m 5ms/step - loss: nan\n",
            "Epoch 2/10\n",
            "\u001b[1m1289/1289\u001b[0m \u001b[32m━━━━━━━━━━━━━━━━━━━━\u001b[0m\u001b[37m\u001b[0m \u001b[1m9s\u001b[0m 4ms/step - loss: nan\n",
            "Epoch 3/10\n",
            "\u001b[1m1289/1289\u001b[0m \u001b[32m━━━━━━━━━━━━━━━━━━━━\u001b[0m\u001b[37m\u001b[0m \u001b[1m10s\u001b[0m 4ms/step - loss: nan\n",
            "Epoch 4/10\n",
            "\u001b[1m1289/1289\u001b[0m \u001b[32m━━━━━━━━━━━━━━━━━━━━\u001b[0m\u001b[37m\u001b[0m \u001b[1m7s\u001b[0m 5ms/step - loss: nan\n",
            "Epoch 5/10\n",
            "\u001b[1m1289/1289\u001b[0m \u001b[32m━━━━━━━━━━━━━━━━━━━━\u001b[0m\u001b[37m\u001b[0m \u001b[1m9s\u001b[0m 4ms/step - loss: nan\n",
            "Epoch 6/10\n",
            "\u001b[1m1289/1289\u001b[0m \u001b[32m━━━━━━━━━━━━━━━━━━━━\u001b[0m\u001b[37m\u001b[0m \u001b[1m10s\u001b[0m 4ms/step - loss: nan\n",
            "Epoch 7/10\n",
            "\u001b[1m1289/1289\u001b[0m \u001b[32m━━━━━━━━━━━━━━━━━━━━\u001b[0m\u001b[37m\u001b[0m \u001b[1m7s\u001b[0m 5ms/step - loss: nan\n",
            "Epoch 8/10\n",
            "\u001b[1m1289/1289\u001b[0m \u001b[32m━━━━━━━━━━━━━━━━━━━━\u001b[0m\u001b[37m\u001b[0m \u001b[1m8s\u001b[0m 4ms/step - loss: nan\n",
            "Epoch 9/10\n",
            "\u001b[1m1289/1289\u001b[0m \u001b[32m━━━━━━━━━━━━━━━━━━━━\u001b[0m\u001b[37m\u001b[0m \u001b[1m10s\u001b[0m 4ms/step - loss: nan\n",
            "Epoch 10/10\n",
            "\u001b[1m1289/1289\u001b[0m \u001b[32m━━━━━━━━━━━━━━━━━━━━\u001b[0m\u001b[37m\u001b[0m \u001b[1m7s\u001b[0m 5ms/step - loss: nan\n"
          ]
        },
        {
          "output_type": "stream",
          "name": "stderr",
          "text": [
            "/usr/local/lib/python3.10/dist-packages/keras/src/layers/convolutional/base_conv.py:107: UserWarning: Do not pass an `input_shape`/`input_dim` argument to a layer. When using Sequential models, prefer using an `Input(shape)` object as the first layer in the model instead.\n",
            "  super().__init__(activity_regularizer=activity_regularizer, **kwargs)\n"
          ]
        },
        {
          "output_type": "stream",
          "name": "stdout",
          "text": [
            "Epoch 1/20\n",
            "\u001b[1m516/516\u001b[0m \u001b[32m━━━━━━━━━━━━━━━━━━━━\u001b[0m\u001b[37m\u001b[0m \u001b[1m8s\u001b[0m 8ms/step - loss: 14098.4326 - val_loss: 10303.6602\n",
            "Epoch 2/20\n",
            "\u001b[1m516/516\u001b[0m \u001b[32m━━━━━━━━━━━━━━━━━━━━\u001b[0m\u001b[37m\u001b[0m \u001b[1m5s\u001b[0m 9ms/step - loss: 9003.0459 - val_loss: 7616.3589\n",
            "Epoch 3/20\n",
            "\u001b[1m516/516\u001b[0m \u001b[32m━━━━━━━━━━━━━━━━━━━━\u001b[0m\u001b[37m\u001b[0m \u001b[1m4s\u001b[0m 7ms/step - loss: 6721.8003 - val_loss: 6138.8335\n",
            "Epoch 4/20\n",
            "\u001b[1m516/516\u001b[0m \u001b[32m━━━━━━━━━━━━━━━━━━━━\u001b[0m\u001b[37m\u001b[0m \u001b[1m3s\u001b[0m 7ms/step - loss: 5540.2979 - val_loss: 5394.5728\n",
            "Epoch 5/20\n",
            "\u001b[1m516/516\u001b[0m \u001b[32m━━━━━━━━━━━━━━━━━━━━\u001b[0m\u001b[37m\u001b[0m \u001b[1m5s\u001b[0m 10ms/step - loss: 4954.6362 - val_loss: 5079.6816\n",
            "Epoch 6/20\n",
            "\u001b[1m516/516\u001b[0m \u001b[32m━━━━━━━━━━━━━━━━━━━━\u001b[0m\u001b[37m\u001b[0m \u001b[1m8s\u001b[0m 7ms/step - loss: 4793.7061 - val_loss: 4977.0410\n",
            "Epoch 7/20\n",
            "\u001b[1m516/516\u001b[0m \u001b[32m━━━━━━━━━━━━━━━━━━━━\u001b[0m\u001b[37m\u001b[0m \u001b[1m5s\u001b[0m 10ms/step - loss: 4683.8828 - val_loss: 4948.3511\n",
            "Epoch 8/20\n",
            "\u001b[1m516/516\u001b[0m \u001b[32m━━━━━━━━━━━━━━━━━━━━\u001b[0m\u001b[37m\u001b[0m \u001b[1m3s\u001b[0m 7ms/step - loss: 4684.1582 - val_loss: 4940.7549\n",
            "Epoch 9/20\n",
            "\u001b[1m516/516\u001b[0m \u001b[32m━━━━━━━━━━━━━━━━━━━━\u001b[0m\u001b[37m\u001b[0m \u001b[1m4s\u001b[0m 7ms/step - loss: 4696.1152 - val_loss: 4939.6455\n",
            "Epoch 10/20\n",
            "\u001b[1m516/516\u001b[0m \u001b[32m━━━━━━━━━━━━━━━━━━━━\u001b[0m\u001b[37m\u001b[0m \u001b[1m6s\u001b[0m 9ms/step - loss: 4731.8628 - val_loss: 4939.0176\n",
            "Epoch 11/20\n",
            "\u001b[1m516/516\u001b[0m \u001b[32m━━━━━━━━━━━━━━━━━━━━\u001b[0m\u001b[37m\u001b[0m \u001b[1m4s\u001b[0m 7ms/step - loss: 4740.9189 - val_loss: 4938.9927\n",
            "Epoch 12/20\n",
            "\u001b[1m516/516\u001b[0m \u001b[32m━━━━━━━━━━━━━━━━━━━━\u001b[0m\u001b[37m\u001b[0m \u001b[1m6s\u001b[0m 9ms/step - loss: 4686.4868 - val_loss: 4939.4590\n",
            "Epoch 13/20\n",
            "\u001b[1m516/516\u001b[0m \u001b[32m━━━━━━━━━━━━━━━━━━━━\u001b[0m\u001b[37m\u001b[0m \u001b[1m4s\u001b[0m 7ms/step - loss: 4744.2412 - val_loss: 4939.2236\n",
            "Epoch 14/20\n",
            "\u001b[1m516/516\u001b[0m \u001b[32m━━━━━━━━━━━━━━━━━━━━\u001b[0m\u001b[37m\u001b[0m \u001b[1m4s\u001b[0m 7ms/step - loss: 4703.4985 - val_loss: 4939.6714\n",
            "Epoch 15/20\n",
            "\u001b[1m516/516\u001b[0m \u001b[32m━━━━━━━━━━━━━━━━━━━━\u001b[0m\u001b[37m\u001b[0m \u001b[1m4s\u001b[0m 8ms/step - loss: 4737.3745 - val_loss: 4939.9854\n",
            "Epoch 16/20\n",
            "\u001b[1m516/516\u001b[0m \u001b[32m━━━━━━━━━━━━━━━━━━━━\u001b[0m\u001b[37m\u001b[0m \u001b[1m5s\u001b[0m 7ms/step - loss: 4770.9170 - val_loss: 4938.7998\n",
            "Epoch 17/20\n",
            "\u001b[1m516/516\u001b[0m \u001b[32m━━━━━━━━━━━━━━━━━━━━\u001b[0m\u001b[37m\u001b[0m \u001b[1m4s\u001b[0m 7ms/step - loss: 4739.0078 - val_loss: 4938.6577\n",
            "Epoch 18/20\n",
            "\u001b[1m516/516\u001b[0m \u001b[32m━━━━━━━━━━━━━━━━━━━━\u001b[0m\u001b[37m\u001b[0m \u001b[1m7s\u001b[0m 10ms/step - loss: 4652.8950 - val_loss: 4939.8564\n",
            "Epoch 19/20\n",
            "\u001b[1m516/516\u001b[0m \u001b[32m━━━━━━━━━━━━━━━━━━━━\u001b[0m\u001b[37m\u001b[0m \u001b[1m4s\u001b[0m 7ms/step - loss: 4778.4326 - val_loss: 4938.9883\n",
            "Epoch 20/20\n",
            "\u001b[1m516/516\u001b[0m \u001b[32m━━━━━━━━━━━━━━━━━━━━\u001b[0m\u001b[37m\u001b[0m \u001b[1m5s\u001b[0m 7ms/step - loss: 4726.4746 - val_loss: 4940.9482\n",
            "\u001b[1m129/129\u001b[0m \u001b[32m━━━━━━━━━━━━━━━━━━━━\u001b[0m\u001b[37m\u001b[0m \u001b[1m1s\u001b[0m 5ms/step\n"
          ]
        },
        {
          "output_type": "display_data",
          "data": {
            "text/plain": [
              "<Figure size 640x480 with 1 Axes>"
            ],
            "image/png": "[encoded data removed]"
          },
          "metadata": {}
        }
      ]
    },
    {
      "cell_type": "markdown",
      "source": [
        "تفاوت داده‌های labeled و unlabeled:\n",
        "داده‌های labeled: این داده‌ها دارای برچسب‌های مشخصی هستند که نشان‌دهنده سطح تخریب یا مقدار واقعی RUL در هر لحظه است. در مرحله‌های آموزشی نظارت‌شده (supervised) از این داده‌ها برای پیش‌بینی دقیق استفاده می‌شود. مدل، یاد می‌گیرد که بر اساس این داده‌های برچسب‌دار، RUL را پیش‌بینی کند.\n",
        "داده‌های unlabeled: این داده‌ها برچسب ندارند و برای آموزش مدل در یک محیط خودنظارت‌شده (self-supervised learning) استفاده می‌شوند. در این روش، هدف این است که مدل ویژگی‌هایی استخراج کند که توانایی تفکیک بین روندهای تخریبی را داشته باشد، بدون اینکه به برچسب‌های صریح داده‌ها وابسته باشد.                        داده‌های unlabeled:\n",
        "داده‌های unlabeled داده‌هایی هستند که برچسب RUL ندارند و شامل اطلاعات مربوط به وضعیت تخریب بلبرینگ‌ها در طول زمان هستند، اما زمان یا مرحله دقیق از دست دادن عملکرد یا خرابی در آنها مشخص نشده است.\n",
        "این داده‌ها برای بخش پیش‌متن (pretext task) در یادگیری خودنظارت‌شده (SSL) استفاده می‌شوند. در این بخش، هدف این است که مدل بتواند از طریق یادگیری ویژگی‌های پنهانی از داده‌های متوالی (هم به ترتیب مثبت و هم به ترتیب معکوس)، تفاوت‌های تخریبی را تشخیص دهد.\n",
        "برای ایجاد نمونه‌های contrastive (مقایسه‌ای)، داده‌های unlabeled به دو دسته تقسیم می‌شوند:\n",
        "ترتیب زمانی مثبت (داده‌هایی که به ترتیب زمانی اصلی هستند) که نشان‌دهنده روند طبیعی تخریب و کاهش RUL است.\n",
        "ترتیب زمانی معکوس (داده‌هایی که به صورت معکوس مرتب شده‌اند) که به عنوان نمونه‌های منفی استفاده می‌شوند.\n",
        "داده‌های labeled:\n",
        "داده‌های labeled داده‌هایی هستند که به هر نمونه یک برچسب RUL مشخص شده است. این برچسب نشان‌دهنده میزان تخریب یا مدت زمان باقی‌مانده تا خرابی بلبرینگ در هر نقطه زمانی است.\n",
        "این داده‌ها برای بخش نظارت‌شده (supervised) مدل، یعنی بخش اصلی پیش‌بینی RUL، استفاده می‌شوند.\n",
        "بعد از پیش‌پردازش و ساخت ویژگی‌ها توسط مدل در بخش یادگیری خودنظارت‌شده (SSL)، مدل به کمک داده‌های labeled آموزش می‌بیند تا بتواند RUL را با دقت بیشتری پیش‌بینی کند."
      ],
      "metadata": {
        "id": "PpMtYyvn6nRd"
      }
    },
    {
      "cell_type": "markdown",
      "source": [
        "مراحل پیش‌پردازش (Preprocessing):\n",
        "در مرحله پیش‌پردازش داده‌ها:\n",
        "\n",
        "داده‌های خام لرزش (vibration) که از بلبرینگ‌های مختلف جمع‌آوری شده‌اند، تبدیل به اسپکتروم فرکانسی می‌شوند.\n",
        "از تبدیل موجک (wavelet transformation) برای کاهش نویز و استخراج ویژگی‌های مفید استفاده می‌شود. داده‌ها به صورت طول‌های متوالی تقسیم می‌شوند که هر طول نمایانگر یک بخش از فرآیند تخریب است.\n",
        "این داده‌ها به ترتیب زمانی مثبت و منفی تقسیم‌بندی می‌شوند. ترتیب مثبت نشان‌دهنده کاهش RUL است، و ترتیب منفی، ترتیب زمانی معکوس (وارونه) همان داده‌هاست که به عنوان نمونه‌های منفی در contrastive learning استفاده می‌شود.\n",
        "داده‌های کانال x و کانال y:\n",
        "داده‌های کانال x و y مربوط به لرزش‌های اندازه‌گیری‌شده از جهت‌های مختلف بلبرینگ هستند. به‌عنوان مثال، کانال x می‌تواند لرزش‌های افقی و کانال y لرزش‌های عمودی را اندازه‌گیری کند. این داده‌ها به‌طور هم‌زمان جمع‌آوری می‌شوند، و هدف مدل این است که اطمینان حاصل کند نتایج به‌دست‌آمده از هر دو کانال با یکدیگر تداخل نکنند.\n",
        "برای این منظور، loss2 در تابع ضرر (loss function) طراحی شده است تا هماهنگی بین نتایج پردازشی از کانال‌های مختلف (x و y) تضمین شود."
      ],
      "metadata": {
        "id": "eQkx3m0N8gvk"
      }
    }
  ]
}